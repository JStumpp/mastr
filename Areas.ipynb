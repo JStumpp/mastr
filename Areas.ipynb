{
 "cells": [
  {
   "cell_type": "code",
   "execution_count": 6,
   "id": "impossible-hierarchy",
   "metadata": {},
   "outputs": [
    {
     "name": "stdout",
     "output_type": "stream",
     "text": [
      "Total area of largest 20 buildings: 304049.5868615339\n",
      "Total area of remaining buildings: 1611750.7209560797\n"
     ]
    },
    {
     "data": {
      "image/png": "[encoded data removed]",
      "text/plain": [
       "<Figure size 432x288 with 1 Axes>"
      ]
     },
     "metadata": {
      "needs_background": "light"
     },
     "output_type": "display_data"
    }
   ],
   "source": [
    "import pandas as pd\n",
    "import matplotlib.pyplot as plt\n",
    "\n",
    "df = pd.read_csv(\"buildings-in-Gaggenau.csv\")\n",
    "\n",
    "n = 20\n",
    "\n",
    "n_largest = df[:n]['area']\n",
    "remaining = df[n:]['area']\n",
    "\n",
    "print(f\"Total area of largest {n} buildings: {n_largest.sum()}\")\n",
    "print(f\"Total area of remaining buildings: {remaining.sum()}\")\n",
    "\n",
    "fig, ax = plt.subplots()\n",
    "df.plot.hist(ax=ax, bins=20)\n",
    "ax.set_yscale('log')"
   ]
  },
  {
   "cell_type": "code",
   "execution_count": 43,
   "id": "rolled-albany",
   "metadata": {},
   "outputs": [
    {
     "data": {
      "text/plain": [
       "<AxesSubplot:>"
      ]
     },
     "execution_count": 43,
     "metadata": {},
     "output_type": "execute_result"
    },
    {
     "data": {
      "image/png": "[encoded data removed]",
      "text/plain": [
       "<Figure size 432x288 with 1 Axes>"
      ]
     },
     "metadata": {
      "needs_background": "light"
     },
     "output_type": "display_data"
    }
   ],
   "source": [
    "#fig, ax = plt.subplots()\n",
    "#df.cumsum().plot(ax=ax)\n",
    "#ax.set_xscale('log')\n",
    "\n",
    "df.cumsum().plot()"
   ]
  },
  {
   "cell_type": "code",
   "execution_count": 3,
   "id": "moral-covering",
   "metadata": {},
   "outputs": [],
   "source": [
    "import geopy\n",
    "from geopy.geocoders import Nominatim\n",
    "from geopy.extra.rate_limiter import RateLimiter\n",
    "\n",
    "import json"
   ]
  },
  {
   "cell_type": "code",
   "execution_count": 13,
   "id": "impaired-champion",
   "metadata": {},
   "outputs": [
    {
     "data": {
      "text/plain": [
       "[Location(30, Hauptstraße, Ottenau, Hörden, Gaggenau, Landkreis Rastatt, Baden-Württemberg, 76571, Deutschland, (48.7972959, 8.324943297549082, 0.0)),\n",
       " Location(Duvenbeck Logistics Standort Gaggenau, 5, Max-Roth-Straße, Hillwood Logistikpark (Centra5L), Ottenau, Hörden, Gaggenau, Landkreis Rastatt, Baden-Württemberg, 76571, Deutschland, (48.786153150000004, 8.342061471709762, 0.0)),\n",
       " Location(4, Hauptstraße, Ottenau, Hörden, Gaggenau, Landkreis Rastatt, Baden-Württemberg, 76571, Deutschland, (48.7949645, 8.329645543488436, 0.0)),\n",
       " Location(Gaggenau Mercedes-Benz-Werk, Goethestraße, Ottenau, Gaggenau, Landkreis Rastatt, Baden-Württemberg, 76571, Deutschland, (48.7980444, 8.3274417, 0.0)),\n",
       " Location(SWARCO, 6, Adolf-Dambach-Straße, Bad Rotenfels, Gaggenau, Landkreis Rastatt, Baden-Württemberg, 76571, Deutschland, (48.81986015, 8.29809406931513, 0.0)),\n",
       " Location(8, Hauptstraße, Ottenau, Hörden, Gaggenau, Landkreis Rastatt, Baden-Württemberg, 76571, Deutschland, (48.79621475, 8.327486766089542, 0.0)),\n",
       " Location(2a, Draisstraße, Bad Rotenfels, Winkel, Gaggenau, Landkreis Rastatt, Baden-Württemberg, 76571, Deutschland, (48.82464845, 8.300026372042037, 0.0)),\n",
       " Location(Gaggenau Mercedes-Benz-Werk, Goethestraße, Ottenau, Gaggenau, Landkreis Rastatt, Baden-Württemberg, 76571, Deutschland, (48.7980332, 8.3274273, 0.0)),\n",
       " Location(Selbacher Straße, Ottenau, Hörden, Gaggenau, Landkreis Rastatt, Baden-Württemberg, 76571, Deutschland, (48.7865531, 8.3392887, 0.0)),\n",
       " Location(König Metall, 1, Josef-König-Straße, Bad Rotenfels, Winkel, Gaggenau, Landkreis Rastatt, Baden-Württemberg, 76571, Deutschland, (48.82349285, 8.293798329336736, 0.0)),\n",
       " Location(2, Ferdinand-Rahner-Straße, Bad Rotenfels, Winkel, Gaggenau, Landkreis Rastatt, Baden-Württemberg, 76571, Deutschland, (48.825162, 8.296567066581229, 0.0)),\n",
       " Location(Daimler AG - Parkplatz I, Goethestraße, Ottenau, Gaggenau, Landkreis Rastatt, Baden-Württemberg, 76571, Deutschland, (48.799019799999996, 8.330383794962938, 0.0)),\n",
       " Location(Grötz Bauunternehmung Betonwerk GmbH und Nesselhauf GmbH, 1, Franz-Grötz-Straße, Bad Rotenfels, Winkel, Gaggenau, Landkreis Rastatt, Baden-Württemberg, 76571, Deutschland, (48.822405399999994, 8.300304392167885, 0.0)),\n",
       " Location(Dr.-Isidor-Meyerhoff-Straße, Bad Rotenfels, Gaggenau, Landkreis Rastatt, Baden-Württemberg, 76571, Deutschland, (48.81100287169777, 8.321073851498156, 0.0)),\n",
       " Location(3, Wilhelm-Lang-Straße, Bad Rotenfels, Winkel, Gaggenau, Landkreis Rastatt, Baden-Württemberg, 76571, Deutschland, (48.8270106, 8.2949617, 0.0)),\n",
       " Location(58, Viktoriastraße, Bad Rotenfels, Gaggenau, Landkreis Rastatt, Baden-Württemberg, 76571, Deutschland, (48.8089496, 8.3207407, 0.0)),\n",
       " Location(5, Ferdinand-Rahner-Straße, Bad Rotenfels, Winkel, Gaggenau, Landkreis Rastatt, Baden-Württemberg, 76571, Deutschland, (48.82538705, 8.293640544652385, 0.0)),\n",
       " Location(42, Goethestraße, Ottenau, Gaggenau, Landkreis Rastatt, Baden-Württemberg, 76571, Deutschland, (48.79947985, 8.326222520012726, 0.0)),\n",
       " Location(Toom Baumarkt, 2, Murgtalstraße, Bad Rotenfels, Winkel, Gaggenau, Landkreis Rastatt, Baden-Württemberg, 76571, Deutschland, (48.8230244, 8.297019694822758, 0.0)),\n",
       " Location(4, Kanalstraße, Gaggenau, Vereinbarte Verwaltungsgemeinschaft Gernsbach, Landkreis Rastatt, Baden-Württemberg, 76571, Deutschland, (48.77913675, 8.342527034884567, 0.0))]"
      ]
     },
     "execution_count": 13,
     "metadata": {},
     "output_type": "execute_result"
    }
   ],
   "source": [
    "locator = Nominatim(user_agent=\"myGeocoder\")\n",
    "coordinates = \"53.480837, -2.244914\"\n",
    "location = locator.reverse(coordinates)\n",
    "\n",
    "def point_to_string(p):\n",
    "    [lon, lat] = json.loads(p)['coordinates']\n",
    "    return f\"{lat}, {lon}\"\n",
    "\n",
    "centroids = list(df[:n]['centroid'].map(point_to_string))\n",
    "locations = [locator.reverse(centroid) for centroid in centroids]\n",
    "\n",
    "locations"
   ]
  },
  {
   "cell_type": "code",
   "execution_count": 14,
   "id": "ceramic-destination",
   "metadata": {},
   "outputs": [
    {
     "data": {
      "text/plain": [
       "['48.79817436905782, 8.325424446856355',\n",
       " '48.78615313835378, 8.342061468392819',\n",
       " '48.79553940246441, 8.328746737763744',\n",
       " '48.79852421205802, 8.328096724844842',\n",
       " '48.82064753951893, 8.298572842158894',\n",
       " '48.79621355382889, 8.327502005057049',\n",
       " '48.82466289296271, 8.29992767652914',\n",
       " '48.7975021448985, 8.327058563439088',\n",
       " '48.78640361766878, 8.339989051167722',\n",
       " '48.82340007797842, 8.293797751651041',\n",
       " '48.82515231556737, 8.296573209824352',\n",
       " '48.79838752481292, 8.329720803821532',\n",
       " '48.82238586549397, 8.300192523176252',\n",
       " '48.81046299546153, 8.3213256320236',\n",
       " '48.82673774133936, 8.294530489315061',\n",
       " '48.80924015987136, 8.320804856948671',\n",
       " '48.82537542714965, 8.29363934832464',\n",
       " '48.7987977936761, 8.326582480999072',\n",
       " '48.82303153890936, 8.296983809460853',\n",
       " '48.77922041482737, 8.342453009732813']"
      ]
     },
     "execution_count": 14,
     "metadata": {},
     "output_type": "execute_result"
    }
   ],
   "source": [
    "centroids"
   ]
  },
  {
   "cell_type": "code",
   "execution_count": null,
   "id": "canadian-attitude",
   "metadata": {},
   "outputs": [],
   "source": []
  }
 ],
 "metadata": {
  "kernelspec": {
   "display_name": "Python 3",
   "language": "python",
   "name": "python3"
  },
  "language_info": {
   "codemirror_mode": {
    "name": "ipython",
    "version": 3
   },
   "file_extension": ".py",
   "mimetype": "text/x-python",
   "name": "python",
   "nbconvert_exporter": "python",
   "pygments_lexer": "ipython3",
   "version": "3.8.9"
  }
 },
 "nbformat": 4,
 "nbformat_minor": 5
}
